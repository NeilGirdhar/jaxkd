{
 "cells": [
  {
   "cell_type": "code",
   "execution_count": 1,
   "id": "d4d323f5",
   "metadata": {},
   "outputs": [],
   "source": [
    "import os\n",
    "# os.environ[\"JAX_PLATFORM_NAME\"] = \"cpu\"\n",
    "\n",
    "import jax\n",
    "import jax.numpy as jnp\n",
    "from jax.tree_util import Partial\n",
    "key = jax.random.key(137)\n",
    "import matplotlib.pyplot as plt\n",
    "\n",
    "from scipy.spatial import KDTree\n",
    "import jaxkd as jk"
   ]
  },
  {
   "cell_type": "code",
   "execution_count": 9,
   "id": "215d61cd",
   "metadata": {},
   "outputs": [
    {
     "name": "stdout",
     "output_type": "stream",
     "text": [
      "KD tree neighbors:     [  0 113 216 254  94  18]\n",
      "Brute force neighbors: [  0 113 216 254  94  18]\n"
     ]
    },
    {
     "data": {
      "image/png": "[encoded data removed]",
      "text/plain": [
       "<Figure size 500x500 with 1 Axes>"
      ]
     },
     "metadata": {},
     "output_type": "display_data"
    }
   ],
   "source": [
    "# Visualize with a few points\n",
    "n_points = 256\n",
    "key, subkey = jax.random.split(key)\n",
    "points = jax.random.normal(subkey, shape=(n_points, 2))\n",
    "tree = jk.make_kd_tree(points)\n",
    "neighbors, distances = jk.query_neighbors(points[0], points, *tree, k=6)\n",
    "\n",
    "print('KD tree neighbors:    ', neighbors)\n",
    "print('Brute force neighbors:', jnp.argsort(jnp.linalg.norm(points - points[0], axis=1))[:len(neighbors)])\n",
    "\n",
    "plt.figure(figsize=(5,5))\n",
    "plt.scatter(*points[neighbors].T, s=16, c='C2')\n",
    "plt.scatter(*points[0], s=16, c='C3')\n",
    "plt.scatter(*points.T, s=4, c='C0')\n",
    "plt.gca().set(xlim=(-3, 3), ylim=(-3, 3))\n",
    "plt.show()"
   ]
  },
  {
   "cell_type": "code",
   "execution_count": 12,
   "id": "b9dc075f",
   "metadata": {},
   "outputs": [
    {
     "data": {
      "text/plain": [
       "Array([865013, 531231, 650992, ..., 297713, 417590,  78579], dtype=int32)"
      ]
     },
     "execution_count": 12,
     "metadata": {},
     "output_type": "execute_result"
    }
   ],
   "source": [
    "# Test speed (run a second time after jit to see real speed)\n",
    "n_points = 1024 * 1024\n",
    "key, subkey = jax.random.split(key)\n",
    "points = jax.random.uniform(subkey, shape=(n_points, 2))\n",
    "tree = jk.make_kd_tree(points)\n",
    "tree[0]"
   ]
  },
  {
   "cell_type": "code",
   "execution_count": 13,
   "id": "f61ea5c7",
   "metadata": {},
   "outputs": [
    {
     "data": {
      "text/plain": [
       "Array([[      0,  987379,  686711,   36007,  214770, 1048463],\n",
       "       [      1,  185368,   75643,  230145,  330228,  130114],\n",
       "       [      2,  921894,  103757,  285922,  367619,  621254],\n",
       "       ...,\n",
       "       [1048573,  937770,  914156,  850317,   74917,  324114],\n",
       "       [1048574,  307814,  990973,  773320,  496305,  862537],\n",
       "       [1048575,  281426,  837957,   76775,  628376,  632009]],      dtype=int32)"
      ]
     },
     "execution_count": 13,
     "metadata": {},
     "output_type": "execute_result"
    }
   ],
   "source": [
    "# Find neighbors for all points (run a second time after jit to see reals speed)\n",
    "neighbors, distances = jax.vmap(lambda query: jk.query_neighbors(query, points, *tree, k=6))(points)\n",
    "neighbors"
   ]
  },
  {
   "cell_type": "code",
   "execution_count": 14,
   "id": "4024f66b",
   "metadata": {},
   "outputs": [],
   "source": [
    "# Build scipy KDTree\n",
    "scipy_tree = KDTree(points)"
   ]
  },
  {
   "cell_type": "code",
   "execution_count": 15,
   "id": "c0ca872a",
   "metadata": {},
   "outputs": [
    {
     "data": {
      "text/plain": [
       "array([[      0,  987379,  686711,   36007,  214770, 1048463],\n",
       "       [      1,  185368,   75643,  230145,  330228,  130114],\n",
       "       [      2,  921894,  103757,  285922,  367619,  621254],\n",
       "       ...,\n",
       "       [1048573,  937770,  914156,  850317,   74917,  324114],\n",
       "       [1048574,  307814,  990973,  773320,  496305,  862537],\n",
       "       [1048575,  281426,  837957,   76775,  628376,  632009]],\n",
       "      shape=(1048576, 6))"
      ]
     },
     "execution_count": 15,
     "metadata": {},
     "output_type": "execute_result"
    }
   ],
   "source": [
    "# Find neighbors for all points\n",
    "scipy_tree.query(points, k=6, workers=-1)[1]"
   ]
  },
  {
   "cell_type": "code",
   "execution_count": null,
   "id": "e69cc62b",
   "metadata": {},
   "outputs": [],
   "source": []
  }
 ],
 "metadata": {
  "kernelspec": {
   "display_name": "c4u",
   "language": "python",
   "name": "python3"
  },
  "language_info": {
   "codemirror_mode": {
    "name": "ipython",
    "version": 3
   },
   "file_extension": ".py",
   "mimetype": "text/x-python",
   "name": "python",
   "nbconvert_exporter": "python",
   "pygments_lexer": "ipython3",
   "version": "3.11.2"
  }
 },
 "nbformat": 4,
 "nbformat_minor": 5
}
