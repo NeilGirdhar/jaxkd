{
 "cells": [
  {
   "cell_type": "code",
   "execution_count": 1,
   "id": "d4d323f5",
   "metadata": {},
   "outputs": [],
   "source": [
    "import os\n",
    "# os.environ[\"JAX_PLATFORM_NAME\"] = \"cpu\"\n",
    "\n",
    "import jax\n",
    "import jax.numpy as jnp\n",
    "from jax.tree_util import Partial\n",
    "key = jax.random.PRNGKey(137)\n",
    "\n",
    "import matplotlib.pyplot as plt\n",
    "\n",
    "from scipy.spatial import KDTree\n",
    "import jaxkd as jk"
   ]
  },
  {
   "cell_type": "markdown",
   "id": "8b92024a",
   "metadata": {},
   "source": [
    "## Basic usage"
   ]
  },
  {
   "cell_type": "code",
   "execution_count": 2,
   "id": "215d61cd",
   "metadata": {},
   "outputs": [
    {
     "data": {
      "image/png": "[encoded data removed]",
      "text/plain": [
       "<Figure size 640x480 with 1 Axes>"
      ]
     },
     "metadata": {},
     "output_type": "display_data"
    }
   ],
   "source": [
    "# Generate a few random points\n",
    "n_points = 200\n",
    "key, subkey = jax.random.split(key)\n",
    "points = jax.random.normal(subkey, shape=(n_points, 2))\n",
    "tree = jk.build_tree(points)\n",
    "neighbors, distances = jk.query_neighbors(tree, points[0], 10)\n",
    "\n",
    "# Plot\n",
    "plt.scatter(*points[neighbors].T, s=16, c='C2')\n",
    "plt.scatter(*points[0], s=16, c='C1')\n",
    "plt.scatter(*points.T, s=2, c='k')\n",
    "plt.gca().set(xlim=(-3, 3), ylim=(-3, 3), aspect='equal')\n",
    "plt.show()"
   ]
  },
  {
   "cell_type": "markdown",
   "id": "38b31d01",
   "metadata": {},
   "source": [
    "## More points, *highly* recommended to run on at GPU"
   ]
  },
  {
   "cell_type": "code",
   "execution_count": 26,
   "id": "b9dc075f",
   "metadata": {},
   "outputs": [
    {
     "data": {
      "text/plain": [
       "tree(points=Array([[-1.5738372e+00,  1.5972906e-01, -1.5489956e+00],\n",
       "       [-1.2849354e+00,  9.0706623e-01, -5.7082736e-01],\n",
       "       [-6.5303862e-02,  1.8438954e+00, -3.9029440e-01],\n",
       "       ...,\n",
       "       [-8.4969312e-01, -4.8250869e-01, -1.2987053e+00],\n",
       "       [ 3.0866340e-01,  9.8494232e-01, -7.1408920e-04],\n",
       "       [ 3.0627811e-01, -6.7490655e-01, -1.0343981e+00]], dtype=float32), indices=Array([ 44607,  36815, 374857, ..., 518209,  43290, 776486], dtype=int32), split_dims=Array([ 2,  1,  0, ..., -1, -1, -1], dtype=int32))"
      ]
     },
     "execution_count": 26,
     "metadata": {},
     "output_type": "execute_result"
    }
   ],
   "source": [
    "# Test with larger number of points (run a second time to see compiled speed)\n",
    "n_points = 1_000_000\n",
    "key, subkey = jax.random.split(key)\n",
    "points = jax.random.normal(subkey, shape=(n_points, 3))\n",
    "tree = jk.build_tree(points, optimize=True)\n",
    "tree"
   ]
  },
  {
   "cell_type": "code",
   "execution_count": 28,
   "id": "c7fe64fa",
   "metadata": {},
   "outputs": [
    {
     "data": {
      "text/plain": [
       "Array([[     0, 169473, 121146, 104097],\n",
       "       [     1, 477157, 373313, 310241],\n",
       "       [     2, 420123, 387874, 548235],\n",
       "       ...,\n",
       "       [999997, 412452, 572014, 733032],\n",
       "       [999998, 233116, 920956, 765572],\n",
       "       [999999,  17747, 450187, 559016]], dtype=int32)"
      ]
     },
     "execution_count": 28,
     "metadata": {},
     "output_type": "execute_result"
    }
   ],
   "source": [
    "# Find neighbors for all points (run a second time to see compiled speed)\n",
    "neighbors, distances = jk.query_neighbors(tree, points, 4)\n",
    "neighbors"
   ]
  },
  {
   "cell_type": "code",
   "execution_count": 29,
   "id": "4024f66b",
   "metadata": {},
   "outputs": [],
   "source": [
    "# Build scipy KDTree to compare\n",
    "scipy_tree = KDTree(points)"
   ]
  },
  {
   "cell_type": "code",
   "execution_count": 30,
   "id": "c0ca872a",
   "metadata": {},
   "outputs": [
    {
     "data": {
      "text/plain": [
       "array([[     0, 169473, 121146, 104097],\n",
       "       [     1, 477157, 373313, 310241],\n",
       "       [     2, 420123, 387874, 548235],\n",
       "       ...,\n",
       "       [999997, 412452, 572014, 733032],\n",
       "       [999998, 233116, 920956, 765572],\n",
       "       [999999,  17747, 450187, 559016]], shape=(1000000, 4))"
      ]
     },
     "execution_count": 30,
     "metadata": {},
     "output_type": "execute_result"
    }
   ],
   "source": [
    "# Find neighbors for all points again\n",
    "scipy_neighbors = scipy_tree.query(points, k=4, workers=-1)[1]\n",
    "scipy_neighbors"
   ]
  },
  {
   "cell_type": "code",
   "execution_count": 31,
   "id": "066dcb03",
   "metadata": {},
   "outputs": [
    {
     "data": {
      "text/plain": [
       "Array(0.99999976, dtype=float32)"
      ]
     },
     "execution_count": 31,
     "metadata": {},
     "output_type": "execute_result"
    }
   ],
   "source": [
    "# Do all points match? Guessing some issues from floating point precision...\n",
    "jnp.sum(neighbors == scipy_neighbors) / neighbors.size"
   ]
  },
  {
   "cell_type": "markdown",
   "id": "3cc41a84",
   "metadata": {},
   "source": [
    "## Differentiation"
   ]
  },
  {
   "cell_type": "code",
   "execution_count": null,
   "id": "df77de7a",
   "metadata": {},
   "outputs": [],
   "source": []
  }
 ],
 "metadata": {
  "kernelspec": {
   "display_name": "c4u",
   "language": "python",
   "name": "python3"
  },
  "language_info": {
   "codemirror_mode": {
    "name": "ipython",
    "version": 3
   },
   "file_extension": ".py",
   "mimetype": "text/x-python",
   "name": "python",
   "nbconvert_exporter": "python",
   "pygments_lexer": "ipython3",
   "version": "3.11.2"
  }
 },
 "nbformat": 4,
 "nbformat_minor": 5
}
