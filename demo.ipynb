{
 "cells": [
  {
   "cell_type": "code",
   "execution_count": 1,
   "id": "d4d323f5",
   "metadata": {},
   "outputs": [],
   "source": [
    "import os\n",
    "# os.environ[\"JAX_PLATFORM_NAME\"] = \"cpu\"\n",
    "\n",
    "import jax\n",
    "import jax.numpy as jnp\n",
    "from jax.tree_util import Partial\n",
    "key = jax.random.PRNGKey(137)\n",
    "\n",
    "import matplotlib.pyplot as plt\n",
    "\n",
    "from scipy.spatial import KDTree\n",
    "import jaxkd as jk"
   ]
  },
  {
   "cell_type": "markdown",
   "id": "8b92024a",
   "metadata": {},
   "source": [
    "## Basic usage, no JIT"
   ]
  },
  {
   "cell_type": "code",
   "execution_count": 5,
   "id": "215d61cd",
   "metadata": {},
   "outputs": [
    {
     "data": {
      "image/png": "[encoded data removed]",
      "text/plain": [
       "<Figure size 640x480 with 1 Axes>"
      ]
     },
     "metadata": {},
     "output_type": "display_data"
    }
   ],
   "source": [
    "# Generate a few random points\n",
    "n_points = 200\n",
    "key, subkey = jax.random.split(key)\n",
    "points = jax.random.normal(subkey, shape=(n_points, 2))\n",
    "tree = jk.build_tree(points)\n",
    "neighbors, distances = jk.query_neighbors(tree, points[0], 10)\n",
    "\n",
    "# Plot\n",
    "plt.scatter(*points[neighbors].T, s=16, c='C2')\n",
    "plt.scatter(*points[0], s=16, c='C1')\n",
    "plt.scatter(*points.T, s=2, c='k')\n",
    "plt.gca().set(xlim=(-3, 3), ylim=(-3, 3), aspect='equal')\n",
    "plt.show()"
   ]
  },
  {
   "cell_type": "markdown",
   "id": "c0ca7cf3",
   "metadata": {},
   "source": [
    "## JIT compilation"
   ]
  },
  {
   "cell_type": "code",
   "execution_count": null,
   "id": "1f5876e5",
   "metadata": {},
   "outputs": [],
   "source": [
    "# JIT compilation\n",
    "build_tree_jit = jax.jit(jk.build_tree, static_argnames=('optimized',))\n",
    "query_neighbors_jit = jax.jit(jk.query_neighbors, static_argnums=(2,))"
   ]
  },
  {
   "cell_type": "markdown",
   "id": "38b31d01",
   "metadata": {},
   "source": [
    "## More points, *highly* recommended to run on GPU"
   ]
  },
  {
   "cell_type": "code",
   "execution_count": null,
   "id": "b9dc075f",
   "metadata": {},
   "outputs": [
    {
     "data": {
      "text/plain": [
       "tree(points=Array([[0.15466821, 0.6273818 ],\n",
       "       [0.06185579, 0.911924  ],\n",
       "       [0.5203887 , 0.77956843],\n",
       "       ...,\n",
       "       [0.63159657, 0.81793785],\n",
       "       [0.5307418 , 0.73508334],\n",
       "       [0.10786545, 0.20358777]], dtype=float32), indices=Array([1674, 8064, 8555, ..., 8291, 8535, 2687], dtype=int32), split_dims=Array([ 1,  0,  0, ..., -1, -1, -1], dtype=int32))"
      ]
     },
     "execution_count": 42,
     "metadata": {},
     "output_type": "execute_result"
    }
   ],
   "source": [
    "# Test with larger number of points (run a second time to see compiled speed)\n",
    "n_points = 10_000\n",
    "key, subkey = jax.random.split(key)\n",
    "points = jax.random.uniform(subkey, shape=(n_points, 2))\n",
    "tree = build_tree_jit(points)\n",
    "tree"
   ]
  },
  {
   "cell_type": "code",
   "execution_count": null,
   "id": "c7fe64fa",
   "metadata": {},
   "outputs": [
    {
     "data": {
      "text/plain": [
       "Array([[3179, 4558,    0, ..., 1175, 2313, 5530],\n",
       "       [ 790, 6186, 7487, ..., 8490,  756, 7925],\n",
       "       [   2, 7416, 3280, ...,  547, 5490, 4232],\n",
       "       ...,\n",
       "       [3478, 4981, 5858, ..., 6084, 5305, 1102],\n",
       "       [6850, 1276, 3568, ..., 2024, 8843, 9346],\n",
       "       [9229, 9999, 9447, ...,  340, 1406,  125]], dtype=int32)"
      ]
     },
     "execution_count": 43,
     "metadata": {},
     "output_type": "execute_result"
    }
   ],
   "source": [
    "# Find neighbors for all points (run a second time to see compiled speed)\n",
    "neighbors, distances = query_neighbors_jit(tree, points, 10)\n",
    "neighbors"
   ]
  },
  {
   "cell_type": "code",
   "execution_count": null,
   "id": "4024f66b",
   "metadata": {},
   "outputs": [],
   "source": [
    "# Build scipy KDTree to compare\n",
    "scipy_tree = KDTree(points)"
   ]
  },
  {
   "cell_type": "code",
   "execution_count": null,
   "id": "c0ca872a",
   "metadata": {},
   "outputs": [],
   "source": [
    "# Find neighbors for all points again\n",
    "scipy_neighbors = scipy_tree.query(points, k=6, workers=-1)[1]\n",
    "scipy_neighbors"
   ]
  },
  {
   "cell_type": "code",
   "execution_count": null,
   "id": "066dcb03",
   "metadata": {},
   "outputs": [],
   "source": [
    "# Do all points match? Guessing some issues from floating point precision...\n",
    "jnp.sum(neighbors == scipy_neighbors) / neighbors.size"
   ]
  },
  {
   "cell_type": "markdown",
   "id": "3cc41a84",
   "metadata": {},
   "source": [
    "## Differentiation"
   ]
  },
  {
   "cell_type": "code",
   "execution_count": null,
   "id": "df77de7a",
   "metadata": {},
   "outputs": [],
   "source": []
  }
 ],
 "metadata": {
  "kernelspec": {
   "display_name": "c4u",
   "language": "python",
   "name": "python3"
  },
  "language_info": {
   "codemirror_mode": {
    "name": "ipython",
    "version": 3
   },
   "file_extension": ".py",
   "mimetype": "text/x-python",
   "name": "python",
   "nbconvert_exporter": "python",
   "pygments_lexer": "ipython3",
   "version": "3.11.2"
  }
 },
 "nbformat": 4,
 "nbformat_minor": 5
}
