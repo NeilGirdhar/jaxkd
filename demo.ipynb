{
 "cells": [
  {
   "cell_type": "code",
   "execution_count": 1,
   "id": "d4d323f5",
   "metadata": {},
   "outputs": [],
   "source": [
    "import os\n",
    "# os.environ[\"JAX_PLATFORM_NAME\"] = \"cpu\"\n",
    "\n",
    "import jax\n",
    "import jax.numpy as jnp\n",
    "from jax.tree_util import Partial\n",
    "key = jax.random.key(137)\n",
    "import matplotlib.pyplot as plt\n",
    "\n",
    "from scipy.spatial import KDTree\n",
    "import jaxkd as jk"
   ]
  },
  {
   "cell_type": "code",
   "execution_count": 2,
   "id": "215d61cd",
   "metadata": {},
   "outputs": [
    {
     "name": "stdout",
     "output_type": "stream",
     "text": [
      "KD tree neighbors:     [  0  69 106  40 192 172]\n",
      "Brute force neighbors: [  0  69 106  40 192 172]\n"
     ]
    },
    {
     "data": {
      "image/png": "[encoded data removed]",
      "text/plain": [
       "<Figure size 500x500 with 1 Axes>"
      ]
     },
     "metadata": {},
     "output_type": "display_data"
    }
   ],
   "source": [
    "# Visualize with a few points\n",
    "n_points = 256\n",
    "key, subkey = jax.random.split(key)\n",
    "points = jax.random.normal(subkey, shape=(n_points, 2))\n",
    "tree = jk.make_kd_tree(points)\n",
    "neighbors, distances = jk.query_neighbors(points[0], points, *tree, k=6)\n",
    "\n",
    "print('KD tree neighbors:    ', neighbors)\n",
    "print('Brute force neighbors:', jnp.argsort(jnp.linalg.norm(points - points[0], axis=1))[:len(neighbors)])\n",
    "\n",
    "plt.figure(figsize=(5,5))\n",
    "plt.scatter(*points[neighbors].T, s=16, c='C2')\n",
    "plt.scatter(*points[0], s=16, c='C3')\n",
    "plt.scatter(*points.T, s=4, c='C0')\n",
    "plt.gca().set(xlim=(-3, 3), ylim=(-3, 3))\n",
    "plt.show()"
   ]
  },
  {
   "cell_type": "code",
   "execution_count": 12,
   "id": "b9dc075f",
   "metadata": {},
   "outputs": [
    {
     "data": {
      "text/plain": [
       "Array([564664, 513587, 898889, ..., 369413, 358428, 540927], dtype=int32)"
      ]
     },
     "execution_count": 12,
     "metadata": {},
     "output_type": "execute_result"
    }
   ],
   "source": [
    "# Test speed\n",
    "n_points = 1024 * 1024\n",
    "key, subkey = jax.random.split(key)\n",
    "points = jax.random.uniform(subkey, shape=(n_points, 2))\n",
    "tree = jk.make_kd_tree(points)\n",
    "tree[0]"
   ]
  },
  {
   "cell_type": "code",
   "execution_count": 13,
   "id": "f61ea5c7",
   "metadata": {},
   "outputs": [
    {
     "data": {
      "text/plain": [
       "Array([[      0,  575856,  302644,  981413,  357140,   82916],\n",
       "       [      1,  372332,  338585,  610566,  135022,  623640],\n",
       "       [      2,  635960,   62646,    6197,  105903,  514056],\n",
       "       ...,\n",
       "       [1048573,  155057,  515022,  828933,  110746,  700656],\n",
       "       [1048574,  211717,  192061,  395546,  374789,  152548],\n",
       "       [1048575,  404765,  728064,  860375,  202323,  141102]],      dtype=int32)"
      ]
     },
     "execution_count": 13,
     "metadata": {},
     "output_type": "execute_result"
    }
   ],
   "source": [
    "# Find neighbors for all points\n",
    "neighbors, distances = jax.vmap(lambda query: jk.query_neighbors(query, points, *tree, k=6))(points)\n",
    "neighbors"
   ]
  },
  {
   "cell_type": "code",
   "execution_count": 14,
   "id": "4024f66b",
   "metadata": {},
   "outputs": [],
   "source": [
    "# Build scipy KDTree\n",
    "scipy_tree = KDTree(points)"
   ]
  },
  {
   "cell_type": "code",
   "execution_count": 15,
   "id": "c0ca872a",
   "metadata": {},
   "outputs": [
    {
     "data": {
      "text/plain": [
       "array([[      0,  575856,  302644,  981413,  357140,   82916],\n",
       "       [      1,  372332,  338585,  610566,  135022,  623640],\n",
       "       [      2,  635960,   62646,    6197,  105903,  514056],\n",
       "       ...,\n",
       "       [1048573,  155057,  515022,  828933,  110746,  700656],\n",
       "       [1048574,  211717,  192061,  395546,  374789,  152548],\n",
       "       [1048575,  404765,  728064,  860375,  202323,  141102]],\n",
       "      shape=(1048576, 6))"
      ]
     },
     "execution_count": 15,
     "metadata": {},
     "output_type": "execute_result"
    }
   ],
   "source": [
    "# Find neighbors for all points\n",
    "scipy_tree.query(points, k=6, workers=-1)[1]"
   ]
  },
  {
   "cell_type": "code",
   "execution_count": null,
   "id": "46154c37",
   "metadata": {},
   "outputs": [],
   "source": []
  }
 ],
 "metadata": {
  "kernelspec": {
   "display_name": "c4u",
   "language": "python",
   "name": "python3"
  },
  "language_info": {
   "codemirror_mode": {
    "name": "ipython",
    "version": 3
   },
   "file_extension": ".py",
   "mimetype": "text/x-python",
   "name": "python",
   "nbconvert_exporter": "python",
   "pygments_lexer": "ipython3",
   "version": "3.11.2"
  }
 },
 "nbformat": 4,
 "nbformat_minor": 5
}
