{
 "cells": [
  {
   "cell_type": "code",
   "execution_count": null,
   "id": "8319550e",
   "metadata": {},
   "outputs": [],
   "source": [
    "%load_ext autoreload\n",
    "%autoreload 2"
   ]
  },
  {
   "cell_type": "code",
   "execution_count": 10,
   "id": "d4d323f5",
   "metadata": {},
   "outputs": [],
   "source": [
    "import os\n",
    "# os.environ[\"JAX_PLATFORM_NAME\"] = \"cpu\"\n",
    "\n",
    "import jax\n",
    "import jax.numpy as jnp\n",
    "from jax.tree_util import Partial\n",
    "key = jax.random.key(137)\n",
    "import matplotlib.pyplot as plt\n",
    "\n",
    "from scipy.spatial import KDTree\n",
    "import jaxkd as jk"
   ]
  },
  {
   "cell_type": "code",
   "execution_count": 57,
   "id": "215d61cd",
   "metadata": {},
   "outputs": [
    {
     "name": "stdout",
     "output_type": "stream",
     "text": [
      "KD tree neighbors:     [  0 104 188 173 238 232]\n",
      "Brute force neighbors: [  0 104 188 173 238 232]\n"
     ]
    },
    {
     "data": {
      "image/png": "[encoded data removed]",
      "text/plain": [
       "<Figure size 500x500 with 1 Axes>"
      ]
     },
     "metadata": {},
     "output_type": "display_data"
    }
   ],
   "source": [
    "# Visualize with a few points\n",
    "n_points = 256\n",
    "key, subkey = jax.random.split(key)\n",
    "points = jax.random.normal(subkey, shape=(n_points, 2))\n",
    "tree = jk.make_kd_tree(points)\n",
    "neighbors, distances = jk.query_neighbors(points[0], points, *tree, k=6)\n",
    "\n",
    "print('KD tree neighbors:    ', neighbors)\n",
    "print('Brute force neighbors:', jnp.argsort(jnp.linalg.norm(points - points[0], axis=1))[:len(neighbors)])\n",
    "\n",
    "plt.figure(figsize=(5,5))\n",
    "plt.scatter(*points[neighbors].T, s=16, c='C2')\n",
    "plt.scatter(*points[0], s=16, c='C3')\n",
    "plt.scatter(*points.T, s=4, c='C0')\n",
    "plt.gca().set(xlim=(-3, 3), ylim=(-3, 3))\n",
    "plt.show()"
   ]
  },
  {
   "cell_type": "code",
   "execution_count": 60,
   "id": "b9dc075f",
   "metadata": {},
   "outputs": [
    {
     "data": {
      "text/plain": [
       "Array([164279, 907183, 609926, ..., 923378, 670415, 644187], dtype=int32)"
      ]
     },
     "execution_count": 60,
     "metadata": {},
     "output_type": "execute_result"
    }
   ],
   "source": [
    "# Test speed\n",
    "n_points = 1024 * 1024\n",
    "key, subkey = jax.random.split(key)\n",
    "points = jax.random.normal(subkey, shape=(n_points, 2))\n",
    "tree = jk.make_kd_tree(points)\n",
    "tree[0]"
   ]
  },
  {
   "cell_type": "code",
   "execution_count": 91,
   "id": "f61ea5c7",
   "metadata": {},
   "outputs": [
    {
     "data": {
      "text/plain": [
       "Array([[      0,  771139,  416949,  641124,  667498,  363836],\n",
       "       [      1,  262583,  359224,  736282,  523147,   97217],\n",
       "       [      2,  105308,  718106,  729320,  693883,  775953],\n",
       "       ...,\n",
       "       [  99997,  989598, 1000660,  979681,  618529,  388857],\n",
       "       [  99998,  564622,  563157,  479509,  912881,  136155],\n",
       "       [  99999,  392076,  462164,  320985,  442637,  952299]],      dtype=int32)"
      ]
     },
     "execution_count": 91,
     "metadata": {},
     "output_type": "execute_result"
    }
   ],
   "source": [
    "# Find neighbors for all points\n",
    "neighbors, distances = jax.vmap(lambda query: jk.query_neighbors(query, points, *tree, k=6))(points[:100000])\n",
    "neighbors"
   ]
  },
  {
   "cell_type": "code",
   "execution_count": 66,
   "id": "4024f66b",
   "metadata": {},
   "outputs": [],
   "source": [
    "# Build scipy KDTree\n",
    "scipy_tree = KDTree(points)"
   ]
  },
  {
   "cell_type": "code",
   "execution_count": null,
   "id": "c0ca872a",
   "metadata": {},
   "outputs": [
    {
     "data": {
      "text/plain": [
       "array([[      0,  771139,  416949,  641124,  667498,  363836],\n",
       "       [      1,  262583,  359224,  736282,  523147,   97217],\n",
       "       [      2,  105308,  718106,  729320,  693883,  775953],\n",
       "       ...,\n",
       "       [1048573,  130551,  517906,  108310,  958858,   16787],\n",
       "       [1048574,   49855,  840464,  806010,   51620,  860938],\n",
       "       [1048575,  615344,  492857,  586855, 1002141,  333058]],\n",
       "      shape=(1048576, 6))"
      ]
     },
     "execution_count": 71,
     "metadata": {},
     "output_type": "execute_result"
    }
   ],
   "source": [
    "# Find neighbors for all points\n",
    "scipy_tree.query(points, k=6, workers=-1)[1]"
   ]
  }
 ],
 "metadata": {
  "kernelspec": {
   "display_name": "c4u",
   "language": "python",
   "name": "python3"
  },
  "language_info": {
   "codemirror_mode": {
    "name": "ipython",
    "version": 3
   },
   "file_extension": ".py",
   "mimetype": "text/x-python",
   "name": "python",
   "nbconvert_exporter": "python",
   "pygments_lexer": "ipython3",
   "version": "3.11.2"
  }
 },
 "nbformat": 4,
 "nbformat_minor": 5
}
