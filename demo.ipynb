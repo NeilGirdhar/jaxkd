{
 "cells": [
  {
   "cell_type": "code",
   "execution_count": 4,
   "id": "d4d323f5",
   "metadata": {},
   "outputs": [],
   "source": [
    "import os\n",
    "# os.environ[\"JAX_PLATFORM_NAME\"] = \"cpu\"\n",
    "\n",
    "import jax\n",
    "import jax.numpy as jnp\n",
    "from jax.tree_util import Partial\n",
    "key = jax.random.PRNGKey(137)\n",
    "\n",
    "import matplotlib.pyplot as plt\n",
    "\n",
    "from scipy.spatial import KDTree\n",
    "import jaxkd as jk"
   ]
  },
  {
   "cell_type": "markdown",
   "id": "8b92024a",
   "metadata": {},
   "source": [
    "## Basic usage, no JIT"
   ]
  },
  {
   "cell_type": "code",
   "execution_count": 80,
   "id": "215d61cd",
   "metadata": {},
   "outputs": [
    {
     "data": {
      "image/png": "[encoded data removed]",
      "text/plain": [
       "<Figure size 500x500 with 1 Axes>"
      ]
     },
     "metadata": {},
     "output_type": "display_data"
    }
   ],
   "source": [
    "# Generate a few random points\n",
    "n_points = 200\n",
    "key, subkey = jax.random.split(key)\n",
    "points = jax.random.normal(subkey, shape=(n_points, 2))\n",
    "tree = jk.build_tree(points)\n",
    "neighbors, distances = jk.query_neighbors(tree, points[0], k=6)\n",
    "\n",
    "# Plot\n",
    "plt.figure(figsize=(5,5))\n",
    "plt.scatter(*points[neighbors].T, s=16, c='C2')\n",
    "plt.scatter(*points[0], s=16, c='C1')\n",
    "plt.scatter(*points.T, s=2, c='k')\n",
    "plt.gca().set(xlim=(-3, 3), ylim=(-3, 3))\n",
    "plt.show()"
   ]
  },
  {
   "cell_type": "markdown",
   "id": "c0ca7cf3",
   "metadata": {},
   "source": [
    "## More points with JIT, *highly* recommended to run on GPU"
   ]
  },
  {
   "cell_type": "code",
   "execution_count": 81,
   "id": "1f5876e5",
   "metadata": {},
   "outputs": [],
   "source": [
    "# JIT compilation\n",
    "build_tree_jit = jax.jit(jk.build_tree, static_argnames=('optimized',))\n",
    "query_neighbors_jit = jax.jit(jk.query_neighbors, static_argnames=('k',))"
   ]
  },
  {
   "cell_type": "code",
   "execution_count": 104,
   "id": "b9dc075f",
   "metadata": {},
   "outputs": [
    {
     "data": {
      "text/plain": [
       "tree(points=Array([[0.910334  , 0.7014866 ],\n",
       "       [0.7119602 , 0.97091544],\n",
       "       [0.23990285, 0.8795117 ],\n",
       "       ...,\n",
       "       [0.24390602, 0.29322386],\n",
       "       [0.5586759 , 0.42785048],\n",
       "       [0.87056625, 0.22717297]], dtype=float32), indices=Array([7477892, 8550255, 6728824, ...,  106064, 7616343,  821052], dtype=int32), split_dims=Array([ 0,  1,  1, ..., -1, -1, -1], dtype=int32))"
      ]
     },
     "execution_count": 104,
     "metadata": {},
     "output_type": "execute_result"
    }
   ],
   "source": [
    "# Test with larger number of points (run a second time to see compiled speed)\n",
    "n_points = 10_000_000\n",
    "key, subkey = jax.random.split(key)\n",
    "points = jax.random.uniform(subkey, shape=(n_points, 2))\n",
    "tree = build_tree_jit(points)\n",
    "tree"
   ]
  },
  {
   "cell_type": "code",
   "execution_count": 105,
   "id": "c7fe64fa",
   "metadata": {},
   "outputs": [
    {
     "data": {
      "text/plain": [
       "Array([[      0, 2177704, 3971069, 7195108,  717311, 5177145],\n",
       "       [      1, 6504328, 4925492, 6431627, 3265470, 8651221],\n",
       "       [      2, 1155526, 9682017, 7995299, 9812241, 3510567],\n",
       "       ...,\n",
       "       [9999997, 5288458,  316077, 7888864, 8866815, 4597139],\n",
       "       [9999998, 4648801, 7178775, 1896111,  124568, 2722968],\n",
       "       [9999999, 8272563, 9864688, 2685985, 4187855, 2915625]],      dtype=int32)"
      ]
     },
     "execution_count": 105,
     "metadata": {},
     "output_type": "execute_result"
    }
   ],
   "source": [
    "# Find neighbors for all points (run a second time to see compiled speed)\n",
    "neighbors, distances = jax.vmap(Partial(query_neighbors_jit, tree, k=6))(points)\n",
    "neighbors"
   ]
  },
  {
   "cell_type": "code",
   "execution_count": 106,
   "id": "4024f66b",
   "metadata": {},
   "outputs": [],
   "source": [
    "# Build scipy KDTree to compare\n",
    "scipy_tree = KDTree(points)"
   ]
  },
  {
   "cell_type": "code",
   "execution_count": 107,
   "id": "c0ca872a",
   "metadata": {},
   "outputs": [
    {
     "data": {
      "text/plain": [
       "array([[      0, 2177704, 3971069, 7195108,  717311, 5177145],\n",
       "       [      1, 6504328, 4925492, 6431627, 3265470, 8651221],\n",
       "       [      2, 1155526, 9682017, 7995299, 9812241, 3510567],\n",
       "       ...,\n",
       "       [9999997, 5288458,  316077, 7888864, 8866815, 4597139],\n",
       "       [9999998, 4648801, 7178775, 1896111,  124568, 2722968],\n",
       "       [9999999, 8272563, 9864688, 2685985, 4187855, 2915625]],\n",
       "      shape=(10000000, 6))"
      ]
     },
     "execution_count": 107,
     "metadata": {},
     "output_type": "execute_result"
    }
   ],
   "source": [
    "# Find neighbors for all points again\n",
    "scipy_neighbors = scipy_tree.query(points, k=6, workers=-1)[1]\n",
    "scipy_neighbors"
   ]
  },
  {
   "cell_type": "code",
   "execution_count": null,
   "id": "066dcb03",
   "metadata": {},
   "outputs": [
    {
     "data": {
      "text/plain": [
       "Array(0.9999986, dtype=float32)"
      ]
     },
     "execution_count": 109,
     "metadata": {},
     "output_type": "execute_result"
    }
   ],
   "source": [
    "# Do all points match? Guessing some issues from floating point precision...\n",
    "jnp.sum(neighbors == scipy_neighbors) / neighbors.size"
   ]
  }
 ],
 "metadata": {
  "kernelspec": {
   "display_name": "c4u",
   "language": "python",
   "name": "python3"
  },
  "language_info": {
   "codemirror_mode": {
    "name": "ipython",
    "version": 3
   },
   "file_extension": ".py",
   "mimetype": "text/x-python",
   "name": "python",
   "nbconvert_exporter": "python",
   "pygments_lexer": "ipython3",
   "version": "3.11.2"
  }
 },
 "nbformat": 4,
 "nbformat_minor": 5
}
